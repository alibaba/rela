{
 "cells": [
  {
   "cell_type": "markdown",
   "id": "068c695b-19fd-4bf3-b4af-30fb3ff257c4",
   "metadata": {},
   "source": [
    "## Demo: verifying an example network change with Rela\n",
    "\n",
    "Before running this demo, make sure using Python version 3.7 and installed Rela via ```pip install .```"
   ]
  },
  {
   "cell_type": "code",
   "execution_count": 1,
   "id": "d151f8d3-0941-4c43-a148-94028e353e37",
   "metadata": {
    "tags": []
   },
   "outputs": [
    {
     "name": "stdout",
     "output_type": "stream",
     "text": [
      ".* : preserve;\n"
     ]
    }
   ],
   "source": [
    "# import rela language definitions and utility functions\n",
    "from rela import *\n",
    "\n",
    "# define a simple spec as (zone % modifier)\n",
    "# @zone: a regular expression that represent a set of paths\n",
    "# @modifier: a macro indicating the desired changes to paths in the zone\n",
    "spec = PStar(pDot) % Preserve()\n",
    "\n",
    "print(spec)"
   ]
  },
  {
   "cell_type": "code",
   "execution_count": 2,
   "id": "e9c4ea11-fb17-428a-99dd-454f44a3689e",
   "metadata": {
    "tags": []
   },
   "outputs": [
    {
     "name": "stdout",
     "output_type": "stream",
     "text": [
      "preState ▶ I(.*) = postState ▶ I(.*)\n"
     ]
    }
   ],
   "source": [
    "# compile into a low-level IR\n",
    "compiled_spec = RelaCompiler.compile(spec)\n",
    "print(compiled_spec)"
   ]
  },
  {
   "cell_type": "code",
   "execution_count": 3,
   "id": "dd502bc1-09b9-4bce-a4fd-e210e9224d31",
   "metadata": {
    "tags": []
   },
   "outputs": [],
   "source": [
    "# Rela verifies a network change against a spec.\n",
    "\n",
    "# A network change is represented as the before-change forwarding paths and the\n",
    "# after-change forwarding paths of all flows in the network that are considered\n",
    "\n",
    "# Rela defines a JSON format to load network change data from file\n",
    "\n",
    "import os\n",
    "change_file = os.path.abspath('../tests/data/example_rela_graph_network_state.json')"
   ]
  },
  {
   "cell_type": "code",
   "execution_count": 4,
   "id": "c6ad16df-79f8-4fea-8f95-c52dedbacafb",
   "metadata": {
    "tags": []
   },
   "outputs": [
    {
     "name": "stderr",
     "output_type": "stream",
     "text": [
      "                                                                                                \r"
     ]
    }
   ],
   "source": [
    "# load the network change data from file and verify it against the spec\n",
    "result = verify_network_change(compiled_spec, change_file)"
   ]
  },
  {
   "cell_type": "code",
   "execution_count": 5,
   "id": "a5bd92b2-4cba-4fb9-81d4-431b1f9d982b",
   "metadata": {
    "tags": []
   },
   "outputs": [
    {
     "data": {
      "text/plain": [
       "CounterExampleGenerationResult:\n",
       "Case 1 Reason of violation (left side ≠ right side):\n",
       "  left side = \n",
       "    ('SPINE-3.DC3|vrf', 'BORDER-1.DC1|vrf', 'drop')\n",
       "    ('SPINE-3.DC3|vrf', 'BORDER-2.DC1|vrf', 'drop')\n",
       "  right side =\n",
       "    ('SPINE-3.DC3|vrf', 'BORDER-1.DC1|vrf', 'drop')\n",
       "    ('SPINE-3.DC3|vrf', 'BORDER-2.DC1|vrf', 'drop')\n",
       "    ('SPINE-3.DC3|vrf', 'NEW-DEVICE|vrf', 'drop')"
      ]
     },
     "execution_count": 5,
     "metadata": {},
     "output_type": "execute_result"
    }
   ],
   "source": [
    "# generate counterexamples for flows whose before- and after-change paths violate the spec\n",
    "generate_counterexamples(compiled_spec, change_file, indices=result.failed_cases)"
   ]
  }
 ],
 "metadata": {
  "kernelspec": {
   "display_name": "Python 3 (ipykernel)",
   "language": "python",
   "name": "python3"
  },
  "language_info": {
   "codemirror_mode": {
    "name": "ipython",
    "version": 3
   },
   "file_extension": ".py",
   "mimetype": "text/x-python",
   "name": "python",
   "nbconvert_exporter": "python",
   "pygments_lexer": "ipython3",
   "version": "3.7.16"
  }
 },
 "nbformat": 4,
 "nbformat_minor": 5
}
